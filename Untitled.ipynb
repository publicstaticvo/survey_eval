{
 "cells": [
  {
   "cell_type": "code",
   "execution_count": 1,
   "id": "f13696da",
   "metadata": {},
   "outputs": [],
   "source": [
    "import json\n",
    "\n",
    "def load_local(fn):\n",
    "    with open(fn, \"r+\", encoding=\"utf-8\") as f:\n",
    "        d = [json.loads(line.strip()) for line in f if line.strip()]\n",
    "    return d\n",
    "\n",
    "def print_json(d, fn):\n",
    "    with open(fn, \"w+\", encoding=\"utf-8\") as f:\n",
    "        for x in d:\n",
    "            f.write(json.dumps(x, ensure_ascii=False) + \"\\n\")\n",
    "\n",
    "def yield_local(fn):\n",
    "    with open(fn, \"r+\", encoding=\"utf-8\") as f:\n",
    "        for line in f:\n",
    "            if line.strip():\n",
    "                try:\n",
    "                    yield json.loads(line)\n",
    "                except:\n",
    "                    pass"
   ]
  },
  {
   "cell_type": "code",
   "execution_count": null,
   "id": "dd9265cd",
   "metadata": {},
   "outputs": [
    {
     "name": "stdout",
     "output_type": "stream",
     "text": [
      "M.2160\n",
      "[LatexCharsNode(parsing_state=<parsing state 2310916137072>, pos=0, len=6, chars='M.2160')]\n",
      "M.2160\n"
     ]
    }
   ],
   "source": [
    "import sys\n",
    "sys.path.append(\"P:\\\\AI4S\\\\survey_eval\\\\latex_parser\\\\\")\n",
    "from latex_parser.tex_parser import LatexPaperParser, process_input_commands\n",
    "# base = \"P:\\\\AI4S\\\\survey_eval\\\\crawled_papers\\\\cs\\\\2501.00842\"\n",
    "# with open(f\"{base}\\\\elsarticle-template-num.tex\", encoding='utf-8') as f:\n",
    "#     content = process_input_commands(f.read(), base)\n",
    "# parser = LatexPaperParser(content, base)\n",
    "# paper = parser.parse()\n",
    "# all_citations = paper.map_citations_to_sentence()\n",
    "# print(len(all_citations))\n",
    "from pylatexenc.latexwalker import LatexWalker\n",
    "from pylatexenc.latex2text import LatexNodes2Text\n",
    "content = \"\\\\href{https://www.itu.int/rec/R-REC-M.2160/en}{M.2160}\\\\href{https://www.itu.int/rec/R-REC-M.2160/en}\"\n",
    "import re\n",
    "\n",
    "print(content)\n",
    "from pylatexenc.latex2text import LatexNodes2Text\n",
    "\n",
    "nodes, _, _ = LatexWalker(content).get_latex_nodes()\n",
    "converter = LatexNodes2Text(\n",
    "    math_mode=\"verbatim\",\n",
    ")\n",
    "print(nodes)\n",
    "print(converter.nodelist_to_text(nodes))"
   ]
  },
  {
   "cell_type": "code",
   "execution_count": null,
   "id": "12a83e83",
   "metadata": {},
   "outputs": [],
   "source": [
    "import bibtexparser\n",
    "\n",
    "def parse_bib_file(filepath: str):\n",
    "    with open(filepath, 'r', encoding='utf-8') as f:\n",
    "        bib_database = bibtexparser.load(f)\n",
    "    citations = {}\n",
    "    for entry in bib_database.entries:\n",
    "        citation_key = entry.get('ID', '')\n",
    "        if citation_key and citation_key not in citations:\n",
    "            citations[citation_key] = entry\n",
    "    return citations\n",
    "\n",
    "parse_bib_file(\"P:\\\\AI4S\\\\survey_eval\\\\crawled_papers\\\\cs\\\\2502.15573\\\\anthology.bib\")"
   ]
  },
  {
   "cell_type": "code",
   "execution_count": 5,
   "id": "03d4b94a",
   "metadata": {},
   "outputs": [],
   "source": [
    "import re\n",
    "arxiv_pattern = re.compile(r\"(?<![0-9])[0-9]{4}\\.[0-9]{4,5}(?![0-9])\")\n",
    "\n",
    "def get_arxiv_cites(f):\n",
    "    arxiv_index, no_arxiv_titles = set(), set()\n",
    "    citations = load_local(f)\n",
    "    for x in citations:\n",
    "        cite = x['citation']\n",
    "        for k in cite:\n",
    "            arxiv_key = \"\"\n",
    "            if 'journal' in cite[k]:\n",
    "                arxiv_key = arxiv_pattern.findall(cite[k]['journal'])\n",
    "                if arxiv_key: arxiv_key = arxiv_key[-1]\n",
    "            if not arxiv_key and 'volume' in cite[k]:\n",
    "                arxiv_key = arxiv_pattern.findall(cite[k]['volume'])\n",
    "                if arxiv_key: arxiv_key = arxiv_key[-1]\n",
    "            if arxiv_key:\n",
    "                cite[k]['journal'] = 'arXiv'\n",
    "                cite[k]['volume'] = arxiv_key\n",
    "                arxiv_index.add(arxiv_key)\n",
    "            else:\n",
    "                no_arxiv_titles.add(cite[k]['title'])\n",
    "    return citations, arxiv_index, no_arxiv_titles"
   ]
  },
  {
   "cell_type": "code",
   "execution_count": 4,
   "id": "3047af87-c71d-45dc-a82d-9a8bc0aaad13",
   "metadata": {},
   "outputs": [],
   "source": [
    "import arxiv\n",
    "import time\n",
    "\n",
    "def search_arxiv_by_title(title, max_results=3, retry=3):\n",
    "    max_retry = retry\n",
    "    while retry > 0:\n",
    "        try:\n",
    "            time.sleep(3 ** (max_retry - retry))\n",
    "            client = arxiv.Client()\n",
    "            search = arxiv.Search(query=f'ti:\"{title}\"', max_results=max_results, sort_by=arxiv.SortCriterion.Relevance)\n",
    "            results = list(client.results(search))\n",
    "            return results[0].entry_id.split(\"/\")[-1] if results else None\n",
    "        except Exception as e:\n",
    "            print(f\"Error: {e}, Retry: {retry}\")\n",
    "            retry -= 1"
   ]
  },
  {
   "cell_type": "code",
   "execution_count": null,
   "id": "a4b103f3-2a01-4375-856a-71a5d0de2b6c",
   "metadata": {},
   "outputs": [],
   "source": []
  },
  {
   "cell_type": "code",
   "execution_count": null,
   "id": "304240df-9ae6-46f2-b3ea-d1cc70009577",
   "metadata": {},
   "outputs": [],
   "source": []
  }
 ],
 "metadata": {
  "kernelspec": {
   "display_name": "Python 3 (ipykernel)",
   "language": "python",
   "name": "python3"
  },
  "language_info": {
   "codemirror_mode": {
    "name": "ipython",
    "version": 3
   },
   "file_extension": ".py",
   "mimetype": "text/x-python",
   "name": "python",
   "nbconvert_exporter": "python",
   "pygments_lexer": "ipython3",
   "version": "3.12.3"
  }
 },
 "nbformat": 4,
 "nbformat_minor": 5
}
