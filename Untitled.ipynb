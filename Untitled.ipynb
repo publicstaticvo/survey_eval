{
 "cells": [
  {
   "cell_type": "code",
   "execution_count": 1,
   "id": "f13696da",
   "metadata": {},
   "outputs": [],
   "source": [
    "import json\n",
    "\n",
    "def load_local(fn):\n",
    "    with open(fn, \"r+\", encoding=\"utf-8\") as f:\n",
    "        d = [json.loads(line.strip()) for line in f if line.strip()]\n",
    "    return d\n",
    "\n",
    "def print_json(d, fn):\n",
    "    with open(fn, \"w+\", encoding=\"utf-8\") as f:\n",
    "        for x in d:\n",
    "            f.write(json.dumps(x, ensure_ascii=False) + \"\\n\")\n",
    "\n",
    "def yield_local(fn):\n",
    "    with open(fn, \"r+\", encoding=\"utf-8\") as f:\n",
    "        for line in f:\n",
    "            if line.strip():\n",
    "                try:\n",
    "                    yield json.loads(line)\n",
    "                except:\n",
    "                    pass"
   ]
  },
  {
   "cell_type": "code",
   "execution_count": 1,
   "id": "dd9265cd",
   "metadata": {},
   "outputs": [
    {
     "name": "stdout",
     "output_type": "stream",
     "text": [
      "198\n"
     ]
    }
   ],
   "source": [
    "import sys\n",
    "sys.path.append(\"P:\\\\AI4S\\\\survey_eval\\\\latex_parser\\\\\")\n",
    "from latex_parser.tex_parser import LatexPaperParser\n",
    "with open(\"P:\\\\AI4S\\\\survey_paper\\\\mat\\\\arXiv-2408.12171v1\\\\main.tex\", encoding='utf-8') as f:\n",
    "    content = f.read()\n",
    "parser = LatexPaperParser(content, \"P:\\\\AI4S\\\\survey_paper\\\\mat\\\\arXiv-2408.12171v1\")\n",
    "paper = parser.parse()\n",
    "all_citations = paper.map_citations_to_sentence()\n",
    "print(len(all_citations))"
   ]
  },
  {
   "cell_type": "code",
   "execution_count": 2,
   "id": "12a83e83",
   "metadata": {},
   "outputs": [
    {
     "name": "stdout",
     "output_type": "stream",
     "text": [
      "{'text': 'CFD\\nemploys mathematical models to simulate fluid dynamics through partial differential equations (PDEs)\\xa0.', 'citation': ['versteeg2007introduction'], 'serial': ['The primary goal of CFD is to obtain simulated results under various working conditions, thereby reducing the need for costly real-world experiments and accelerating engineering design and control processes.'], 'section_id': '1-1'}\n"
     ]
    }
   ],
   "source": [
    "print(all_citations[2])"
   ]
  },
  {
   "cell_type": "code",
   "execution_count": null,
   "id": "03d4b94a",
   "metadata": {},
   "outputs": [],
   "source": []
  }
 ],
 "metadata": {
  "kernelspec": {
   "display_name": "Python 3 (ipykernel)",
   "language": "python",
   "name": "python3"
  },
  "language_info": {
   "codemirror_mode": {
    "name": "ipython",
    "version": 3
   },
   "file_extension": ".py",
   "mimetype": "text/x-python",
   "name": "python",
   "nbconvert_exporter": "python",
   "pygments_lexer": "ipython3",
   "version": "3.9.13"
  }
 },
 "nbformat": 4,
 "nbformat_minor": 5
}
